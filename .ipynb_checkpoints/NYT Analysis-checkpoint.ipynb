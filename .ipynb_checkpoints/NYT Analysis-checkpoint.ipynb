{
 "cells": [
  {
   "cell_type": "code",
   "execution_count": 2,
   "metadata": {},
   "outputs": [],
   "source": [
    "import requests\n",
    "from bs4 import BeautifulSoup as bs"
   ]
  },
  {
   "cell_type": "code",
   "execution_count": 46,
   "metadata": {},
   "outputs": [
    {
     "data": {
      "text/plain": [
       "['https://www.nytimes.com/2021/06/21/world/africa/Ethiopia-election-Abiy-Ahmed.html',\n",
       " 'https://www.nytimes.com/2021/06/21/opinion/ethiopia-election-tigray-abiy.html',\n",
       " 'https://www.nytimes.com/2021/06/18/podcasts/the-daily-newsletter-war-tigray-ethiopia.html',\n",
       " 'https://www.nytimes.com/2021/06/16/opinion/ethiopia-tigray-crisis.html',\n",
       " 'https://www.nytimes.com/2021/06/16/podcasts/the-daily/ethiopia-tigray.html',\n",
       " 'https://www.nytimes.com/2021/06/10/world/africa/ethiopia-famine-tigray.html',\n",
       " 'https://www.nytimes.com/2021/05/26/world/africa/ethiopia-tigray-famine.html',\n",
       " 'https://www.nytimes.com/2021/05/24/world/africa/ethiopia-us-sanctions-tigray.html',\n",
       " 'https://www.nytimes.com/2021/05/20/world/africa/ethiopia-new-york-times-simon-marks.html',\n",
       " 'https://www.nytimes.com/2021/05/13/world/africa/ethiopia-tigray-journalists.html',\n",
       " 'https://www.nytimes.com/2021/04/24/opinion/sunday/tedros-ethiopia-tigray.html',\n",
       " 'https://www.nytimes.com/2021/04/15/world/africa/ethiopia-eritrea-tigray.html',\n",
       " 'https://www.nytimes.com/2021/04/08/science/locust-swarms-africa.html',\n",
       " 'https://www.nytimes.com/2021/04/01/world/africa/ethiopia-tigray-sexual-assault.html',\n",
       " 'https://www.nytimes.com/2021/03/26/world/africa/eritrea-troops-tigray-ethiopia.html',\n",
       " 'https://www.nytimes.com/2021/03/19/world/africa/ethiopia-tigray-atrocities.html',\n",
       " 'https://www.nytimes.com/2021/02/26/world/middleeast/ethiopia-tigray-ethnic-cleansing.html',\n",
       " 'https://www.nytimes.com/2021/02/15/world/africa/iran-ethiopia-plot.html',\n",
       " 'https://www.nytimes.com/2021/02/13/world/africa/ethiopia-conflict-sudan-refugees.html',\n",
       " 'https://www.nytimes.com/2021/01/22/world/africa/ethiopia-tigray-conflict-abiy.html',\n",
       " 'https://www.nytimes.com/2021/01/13/world/africa/ethiopia-ethnic-killings.html',\n",
       " 'https://www.nytimes.com/2020/12/29/world/africa/Ethiopia-Reuters-journalist.html',\n",
       " 'https://www.nytimes.com/2020/12/28/world/africa/Ethiopia-Eritrea-Tigray.html',\n",
       " 'https://www.nytimes.com/2020/12/20/world/africa/tigray-ethiopia-sudan-refugees.html',\n",
       " 'https://www.nytimes.com/2020/12/12/world/africa/Ethiopia-Tigray-ethnic.html',\n",
       " 'https://www.nytimes.com/2020/12/09/world/africa/ethiopia-tigray-sudan.html',\n",
       " 'https://www.nytimes.com/2020/12/03/briefing/coronavirus-vaccine-alieu-kosiah-tigray.html',\n",
       " 'https://www.nytimes.com/2020/12/03/world/africa/ethiopia-tigray-civilian-casualties.html',\n",
       " 'https://www.nytimes.com/2020/11/28/world/africa/ethiopia-tigray-Mekelle-assault.html',\n",
       " 'https://www.nytimes.com/2020/11/27/world/africa/Africa-leaders-suppression.html',\n",
       " 'https://www.nytimes.com/2020/11/26/world/africa/ethiopia-tigray-abiy-ahmed.html',\n",
       " 'https://www.nytimes.com/2020/11/26/opinion/ethiopia-tigray-abiy-ahmed.html',\n",
       " 'https://www.nytimes.com/2020/11/25/style/addis-ababa-ethiopia-shopping.html',\n",
       " 'https://www.nytimes.com/2020/11/17/world/africa/ethiopia-tigray-refugees.html',\n",
       " 'https://www.nytimes.com/2020/11/12/books/maaza-mengiste-the-shadow-king-photography.html',\n",
       " 'https://www.nytimes.com/2020/11/11/opinion/ethiopia-tigray-abiy-ahmed.html',\n",
       " 'https://www.nytimes.com/2020/11/08/world/africa/ethiopia-tigray.html',\n",
       " 'https://www.nytimes.com/2020/11/05/world/africa/ethiopia-tigray-conflict-explained.html',\n",
       " 'https://www.nytimes.com/2020/11/05/world/africa/ethiopia-war-tigray.html',\n",
       " 'https://www.nytimes.com/2020/11/04/world/africa/ethiopia-abiy-tigray.html',\n",
       " 'https://www.nytimes.com/2020/11/02/world/africa/ethiopia-school-massacre.html',\n",
       " 'https://www.nytimes.com/2020/09/18/opinion/facebook-democracy.html',\n",
       " 'https://www.nytimes.com/2020/09/10/world/africa/ethiopia-tigray-elections-abiy-crisis.html',\n",
       " 'https://www.nytimes.com/2020/08/01/world/africa/ethiopian-migrant-workers-coronavirus.html',\n",
       " 'https://www.nytimes.com/2019/12/10/world/africa/nobel-peace-abiy-ahmed.html',\n",
       " 'https://www.nytimes.com/2019/12/09/world/africa/ethiopia-abiy-nobel.html',\n",
       " 'https://www.nytimes.com/2019/11/18/world/africa/ethiopia-jawar-mohammed-abiy-ahmed.html',\n",
       " 'https://www.nytimes.com/2019/10/25/world/africa/ethiopia-protests-prime-minister.html',\n",
       " 'https://www.nytimes.com/2019/10/23/world/africa/ethiopia-protest-abiy.html',\n",
       " 'https://www.nytimes.com/2019/10/17/opinion/abiy-ahmed-nobel-peace-prize.html',\n",
       " 'https://www.nytimes.com/2019/10/11/world/africa/nobel-peace-prize.html']"
      ]
     },
     "execution_count": 46,
     "metadata": {},
     "output_type": "execute_result"
    }
   ],
   "source": [
    "url = 'https://www.nytimes.com/topic/destination/ethiopia?name=styln-ethiopia-civil-war&region=TOP_BANNER&block=storyline_menu_recirc&action=click&pgtype=Article&variant=show'\n",
    "source = requests.get(url).content\n",
    "soup = bs(source, 'lxml')\n",
    "\n",
    "nyt = [f\"https://www.nytimes.com{article.a['href']}\" for article in soup.find_all(class_=\"css-1l4spti\")]\n",
    "\n",
    "links_manually = ['https://www.nytimes.com/2021/04/24/opinion/sunday/tedros-ethiopia-tigray.html',\n",
    "                  'https://www.nytimes.com/2021/04/15/world/africa/ethiopia-eritrea-tigray.html',\n",
    "                  'https://www.nytimes.com/2021/04/08/science/locust-swarms-africa.html',\n",
    "                  'https://www.nytimes.com/2021/04/01/world/africa/ethiopia-tigray-sexual-assault.html',\n",
    "                  'https://www.nytimes.com/2021/03/26/world/africa/eritrea-troops-tigray-ethiopia.html',\n",
    "                  'https://www.nytimes.com/2021/03/19/world/africa/ethiopia-tigray-atrocities.html',\n",
    "                  'https://www.nytimes.com/2021/02/26/world/middleeast/ethiopia-tigray-ethnic-cleansing.html',\n",
    "                  'https://www.nytimes.com/2021/02/15/world/africa/iran-ethiopia-plot.html',\n",
    "                  'https://www.nytimes.com/2021/02/13/world/africa/ethiopia-conflict-sudan-refugees.html',\n",
    "                  'https://www.nytimes.com/2021/01/22/world/africa/ethiopia-tigray-conflict-abiy.html',\n",
    "                  'https://www.nytimes.com/2021/01/13/world/africa/ethiopia-ethnic-killings.html',\n",
    "                  'https://www.nytimes.com/2020/12/29/world/africa/Ethiopia-Reuters-journalist.html',\n",
    "                  'https://www.nytimes.com/2020/12/28/world/africa/Ethiopia-Eritrea-Tigray.html',\n",
    "                  'https://www.nytimes.com/2020/12/20/world/africa/tigray-ethiopia-sudan-refugees.html',\n",
    "                  'https://www.nytimes.com/2020/12/12/world/africa/Ethiopia-Tigray-ethnic.html',\n",
    "                  'https://www.nytimes.com/2020/12/09/world/africa/ethiopia-tigray-sudan.html',\n",
    "                  'https://www.nytimes.com/2020/12/03/briefing/coronavirus-vaccine-alieu-kosiah-tigray.html',\n",
    "                  'https://www.nytimes.com/2020/12/03/world/africa/ethiopia-tigray-civilian-casualties.html',\n",
    "                  'https://www.nytimes.com/2020/11/28/world/africa/ethiopia-tigray-Mekelle-assault.html',\n",
    "                  'https://www.nytimes.com/2020/11/27/world/africa/Africa-leaders-suppression.html',\n",
    "                  'https://www.nytimes.com/2020/11/26/world/africa/ethiopia-tigray-abiy-ahmed.html',\n",
    "                  'https://www.nytimes.com/2020/11/26/opinion/ethiopia-tigray-abiy-ahmed.html',\n",
    "                  'https://www.nytimes.com/2020/11/25/style/addis-ababa-ethiopia-shopping.html',\n",
    "                  'https://www.nytimes.com/2020/11/17/world/africa/ethiopia-tigray-refugees.html',\n",
    "                  'https://www.nytimes.com/2020/11/12/books/maaza-mengiste-the-shadow-king-photography.html',\n",
    "                  'https://www.nytimes.com/2020/11/11/opinion/ethiopia-tigray-abiy-ahmed.html',\n",
    "                  'https://www.nytimes.com/2020/11/08/world/africa/ethiopia-tigray.html',\n",
    "                  'https://www.nytimes.com/2020/11/05/world/africa/ethiopia-tigray-conflict-explained.html',\n",
    "                  'https://www.nytimes.com/2020/11/05/world/africa/ethiopia-war-tigray.html',\n",
    "                  'https://www.nytimes.com/2020/11/04/world/africa/ethiopia-abiy-tigray.html',\n",
    "                  'https://www.nytimes.com/2020/11/02/world/africa/ethiopia-school-massacre.html',\n",
    "                  'https://www.nytimes.com/2020/09/18/opinion/facebook-democracy.html',\n",
    "                  'https://www.nytimes.com/2020/09/10/world/africa/ethiopia-tigray-elections-abiy-crisis.html',\n",
    "                  'https://www.nytimes.com/2020/08/01/world/africa/ethiopian-migrant-workers-coronavirus.html',\n",
    "                  'https://www.nytimes.com/2019/12/10/world/africa/nobel-peace-abiy-ahmed.html',\n",
    "                  'https://www.nytimes.com/2019/12/09/world/africa/ethiopia-abiy-nobel.html',\n",
    "                  'https://www.nytimes.com/2019/11/18/world/africa/ethiopia-jawar-mohammed-abiy-ahmed.html',\n",
    "                  'https://www.nytimes.com/2019/10/25/world/africa/ethiopia-protests-prime-minister.html',\n",
    "                  'https://www.nytimes.com/2019/10/23/world/africa/ethiopia-protest-abiy.html',\n",
    "                  'https://www.nytimes.com/2019/10/17/opinion/abiy-ahmed-nobel-peace-prize.html',\n",
    "                  'https://www.nytimes.com/2019/10/11/world/africa/nobel-peace-prize.html',   \n",
    "]\n",
    "nyt_urls = links + links_manually\n",
    "\n",
    "nyt_urls"
   ]
  },
  {
   "cell_type": "code",
   "execution_count": 95,
   "metadata": {},
   "outputs": [],
   "source": [
    "# texts = []\n",
    "# for link in all_links:\n",
    "#     src = requests.get(link).text\n",
    "#     sp = bs(src, 'lxml')\n",
    "#     para = [p.text for p in sp.find_all('p')]\n",
    "#     para = ' '.join(para)\n",
    "# #     print(para)\n",
    "#     break\n",
    "# para\n",
    "# para = []\n",
    "# src = requests.get(all_links[0]).text\n",
    "# sp = bs(src, 'lxml')\n",
    "# for p in sp.find(class_=\"meteredContent css-1r7ky0e\").find_all('p'):\n",
    "# #     if p.a['href'] is not None:\n",
    "#     para.append(p.text)\n",
    "# para = ' '.join(para)\n",
    "# para\n",
    "def nyt_url_to_transcript(url):\n",
    "    src = requests.get(url).text\n",
    "    sp = bs(src, 'lxml')\n",
    "    text = [p.text for p in sp.find(class_=\"meteredContent css-1r7ky0e\").find_all('p')]\n",
    "    text = ' '.join(text)\n",
    "    \n",
    "    return text\n",
    "\n",
    "nyt_transcripts = [nyt_url_to_transcript(url) for url in nyt_urls]"
   ]
  },
  {
   "cell_type": "code",
   "execution_count": 48,
   "metadata": {
    "collapsed": true
   },
   "outputs": [
    {
     "data": {
      "text/plain": [
       "'ADDIS ABABA, Ethiopia — As war raged in northern Ethiopia, and the region barreled toward its worst famine in decades, a senior American envoy flew to the Ethiopian capital last month in the hope of persuading Prime Minister Abiy Ahmed to pull his country out of a destructive spiral that many fear is tearing it apart. Mr. Abiy, though, wanted to go for a drive. Taking the wheel, the Ethiopian leader took his American guest, the Biden administration’s Horn of Africa envoy, Jeffrey D. Feltman, on an impromptu four-hour tour of Addis Ababa, American officials said. The prime minister drove him past smart new city parks and a refurbished central plaza and even crashed a wedding where the two men posed for photos with the bride and groom. Mr. Abiy’s attempt to change the channel, showcasing economic progress while parts of his country burned, was just the latest sign of a troubled trajectory that has baffled international observers who wonder how they got him so wrong. Not long ago Mr. Abiy, who faces Ethiopian voters on Monday in long-delayed parliamentary elections, was a shining hope for country and continent. After coming to power in 2018 he embarked on a whirlwind of ambitious reforms: freeing political prisoners, welcoming exiles home from abroad and, most impressively, striking a landmark peace deal with Eritrea, Ethiopia’s old foe, in a matter of months. The West, eager for a glittering success story in Africa, was wowed, and within 18 months Mr. Abiy, a one-time intelligence officer, had been awarded the Nobel Peace Prize. But in just nine months Mr. Abiy’s halo has been brutally shattered. The civil war that erupted in the northern region of Tigray in November has become a byword for atrocities against Ethiopian citizens. Mr. Abiy’s forces have been accused of massacres, sexual assault and ethnic cleansing. Last week a senior United Nations official declared that Tigray was in the throes of a famine — the world’s worst since 250,000 people died in Somalia a decade ago, he said. Elsewhere in Ethiopia, ethnic violence has killed hundreds and forced two million people to flee their homes. A smoldering border dispute with Sudan has flared into a major military standoff. Even the election on Monday, once billed as the country’s first free vote and a chance to turn the page on decades of autocratic rule, has only highlighted its divisions and fueled grim warnings that Ethiopia’s very future is in doubt. “These elections are a distraction,” said Abadir M. Ibrahim, an adjunct law professor at Addis Ababa University. “The state is on a cliff edge, and it’s not clear if it can pull back. We just need to get past this vote so we can focus on averting a calamity.” The prime minister’s office did not respond to questions and an interview request. Mr. Abiy’s Prosperity Party, formed in 2019 from the rump of a former governing coalition, is widely expected to win the election easily. But there will be no voting in 102 of Ethiopia’s 547 constituencies because of war, civil unrest and logistical failures. Senior opposition leaders are in jail and their parties are boycotting the vote in Oromia, a sprawling region of about 40 million people that is more populous than many African countries. Mr. Abiy has put a brave face on his nation’s problems, repeatedly downplaying the Tigray conflict as a “law and order operation” and pushing his vision for a modernized, economically vibrant Ethiopia. The United States, which gave Ethiopia $1 billion in aid last year, is pressuring him to shift focus immediately. After being chauffeured around Addis Ababa by Mr. Abiy in May, Mr. Feltman wrote a detailed analysis of his trip for President Biden and other leaders in Washington, even mentioning a sudden jolt by the vehicle that sent coffee spilling on the envoy’s shirt. Weeks later, Secretary of State Antony J. Blinken imposed visa bans on unnamed Ethiopian officials. Other foreigners have left Ethiopia concerned that ethnic cleansing was underway. Pekka Haavisto, a European Union envoy who visited in February, told the European Parliament last week that Ethiopian leaders had told him “they are going to destroy the Tigrayans, that they are going to wipe out the Tigrayans for 100 years.” Ethiopia’s foreign ministry dismissed Mr. Haavisto’s comments as “ludicrous” and a “hallucination of sorts.” Global condemnation of Mr. Abiy, 44, most recently at last week’s Group of 7 summit, represents a dizzying fall for a young leader who until recently was globally celebrated. The whirl of reforms he instituted after being appointed prime minister in 2018 were a sharp rebuke to the Tigray People’s Liberation Front, a party of rebels turned rulers who had dominated Ethiopia since 1991 in an authoritarian system that achieved impressive economic growth at the cost of basic civil rights. Mr. Abiy promised a new way. He allowed once-banned opposition parties, appointed women to half the positions in his cabinet and struck the peace with Eritrea that earned him a Nobel Prize. But in moving swiftly, Mr. Abiy also unleashed pent-up frustrations among ethnic groups that had been marginalized from power for decades — most notably his own group, the Oromo, who account for one-third of Ethiopia’s 110 million people. When mass protests erupted, he reverted to the old playbook: arrests, repression and police brutality. At the same time, tensions escalated with the T.P.L.F., which resented Mr. Abiy’s swaggering reforms. The party leadership retreated to Tigray where, last September, it defied Mr. Abiy by proceeding with regional elections that had been postponed across the country because of the pandemic. By early last November, word reached Washington that war was looming in Tigray. Senator Chris Coons, who has a longstanding interest in Africa, phoned Mr. Abiy to warn about the perils of resorting to military force. Mr. Coons, a Democrat from Delaware, said he reminded the Ethiopian leader that the American Civil War and World War I had started with promises of swift military victory, only to drag on for years and cost millions of lives. Mr. Abiy was undeterred. “He was confident it would be over in six weeks,” Mr. Coons said. Days later, on the evening of the American presidential election, fighting erupted in Tigray. Mr. Abiy has given few interviews. But people who have dealt with him describe a man brimming with self-confidence, even “messianic” — a description encouraged by Mr. Abiy’s own accounts that his ascent to power was preordained. When he was 7, Mr. Abiy told The New York Times in 2018, his mother whispered into his ear that he was “unique” and predicted that he would “end up in the palace.” A former adviser said that a strong Christian faith also guides Mr. Abiy. He is a Pentecostal Christian, a faith that has soared in popularity in Ethiopia, and is a staunch believer in the “prosperity gospel” — a theology that regards material success as God’s reward — said the former adviser, who spoke on the condition of anonymity to avoid reprisals. It is not a coincidence, the adviser added, that the party founded by Mr. Abiy in 2019 is called the Prosperity Party. Mr. Abiy’s evangelical faith has attracted influential supporters in Washington, including Senator James M. Inhofe, Republican of Oklahoma, who told the Senate in 2018 how he first met Mr. Abiy at a prayer meeting where “he told the story of his journey and faith in Jesus.” Last month, Mr. Inhofe traveled to Ethiopia to show his support for Mr. Abiy against the American sanctions. Another crucial relationship for Mr. Abiy is with the dictatorial leader of Eritrea, Isaias Afwerki. Eritrean troops who flooded into Tigray to support Mr. Abiy’s campaign have been accused by the United Nations and rights groups of the worst atrocities of the conflict. Now they are a major factor in the region’s famine. Eritrean soldiers “using starvation as a weapon of war” are blocking aid shipments headed for the most vulnerable parts of Tigray, Mark Lowcock, the top U.N. humanitarian official, told the Security Council last week. The Eritrean issue is Mr. Abiy’s largest international liability, and some analysts describe him as being manipulated by Mr. Isaias, a veteran fighter with a reputation for ruthless strategic maneuvering. By other accounts, Mr. Abiy has little choice — were the Eritreans to leave suddenly, he could lose control of Tigray entirely. The election is likely to highlight the mounting challenges in the rest of Ethiopia. In the past month alone, 400,000 people have been forced from their homes in the Amhara and Afar regions, Mr. Lowcock said. The military has taken control in several parts of Oromia, where an armed rebellion has erupted. Mr. Coons, sent by Mr. Biden to reason with Mr. Abiy in February, warned the Ethiopian leader that the explosion of ethnic hatred could shatter the country, much as it did the former Yugoslavia during the 1990s. Mr. Abiy responded that Ethiopia is “a great nation with a great history,” Mr. Coons said. Mr. Abiy’s transformation from Nobel Peace Prize laureate to wartime leader has prompted quiet soul-searching among some of his allies. The glitter of the Nobel Prize, and a burning desire for a success story in Africa, blinded many Western countries to his evident faults, said Judd Devermont, a former U.S. national intelligence officer for Africa, now at the Center for Strategic and International Studies. With limited interest in Africa, the West too readily categorizes the continent’s leaders as “good” or “bad” with little room for nuance, he added. “We have to acknowledge that we helped to contribute to Abiy’s view of himself,” he said. “We papered over these challenges very early. We gave him a blank check. When it went wrong, we initially turned a blind eye. And now it may be too late.”'"
      ]
     },
     "execution_count": 48,
     "metadata": {},
     "output_type": "execute_result"
    }
   ],
   "source": [
    "nyt_transcripts[0]"
   ]
  },
  {
   "cell_type": "code",
   "execution_count": 49,
   "metadata": {},
   "outputs": [
    {
     "data": {
      "text/html": [
       "<div>\n",
       "<style scoped>\n",
       "    .dataframe tbody tr th:only-of-type {\n",
       "        vertical-align: middle;\n",
       "    }\n",
       "\n",
       "    .dataframe tbody tr th {\n",
       "        vertical-align: top;\n",
       "    }\n",
       "\n",
       "    .dataframe thead th {\n",
       "        text-align: right;\n",
       "    }\n",
       "</style>\n",
       "<table border=\"1\" class=\"dataframe\">\n",
       "  <thead>\n",
       "    <tr style=\"text-align: right;\">\n",
       "      <th></th>\n",
       "      <th>NYT</th>\n",
       "    </tr>\n",
       "  </thead>\n",
       "  <tbody>\n",
       "    <tr>\n",
       "      <th>0</th>\n",
       "      <td>ADDIS ABABA, Ethiopia — As war raged in northe...</td>\n",
       "    </tr>\n",
       "    <tr>\n",
       "      <th>1</th>\n",
       "      <td>Ahead of Ethiopia’s general election on Monday...</td>\n",
       "    </tr>\n",
       "    <tr>\n",
       "      <th>2</th>\n",
       "      <td>Hey everyone, Happy Friday, and Happy Almost-S...</td>\n",
       "    </tr>\n",
       "    <tr>\n",
       "      <th>3</th>\n",
       "      <td>Meet Rahel, 19, a human face of a brutal ethni...</td>\n",
       "    </tr>\n",
       "    <tr>\n",
       "      <th>4</th>\n",
       "      <td>This episode contains descriptions of sexual v...</td>\n",
       "    </tr>\n",
       "  </tbody>\n",
       "</table>\n",
       "</div>"
      ],
      "text/plain": [
       "                                                 NYT\n",
       "0  ADDIS ABABA, Ethiopia — As war raged in northe...\n",
       "1  Ahead of Ethiopia’s general election on Monday...\n",
       "2  Hey everyone, Happy Friday, and Happy Almost-S...\n",
       "3  Meet Rahel, 19, a human face of a brutal ethni...\n",
       "4  This episode contains descriptions of sexual v..."
      ]
     },
     "execution_count": 49,
     "metadata": {},
     "output_type": "execute_result"
    }
   ],
   "source": [
    "import pandas as pd\n",
    "\n",
    "data = {'NYT': nyt_transcripts}\n",
    "df = pd.DataFrame(data)\n",
    "df.head()"
   ]
  },
  {
   "cell_type": "code",
   "execution_count": 50,
   "metadata": {},
   "outputs": [
    {
     "data": {
      "text/html": [
       "<div>\n",
       "<style scoped>\n",
       "    .dataframe tbody tr th:only-of-type {\n",
       "        vertical-align: middle;\n",
       "    }\n",
       "\n",
       "    .dataframe tbody tr th {\n",
       "        vertical-align: top;\n",
       "    }\n",
       "\n",
       "    .dataframe thead th {\n",
       "        text-align: right;\n",
       "    }\n",
       "</style>\n",
       "<table border=\"1\" class=\"dataframe\">\n",
       "  <thead>\n",
       "    <tr style=\"text-align: right;\">\n",
       "      <th></th>\n",
       "      <th>NYT</th>\n",
       "    </tr>\n",
       "  </thead>\n",
       "  <tbody>\n",
       "    <tr>\n",
       "      <th>0</th>\n",
       "      <td>addis ababa ethiopia — as war raged in norther...</td>\n",
       "    </tr>\n",
       "    <tr>\n",
       "      <th>1</th>\n",
       "      <td>ahead of ethiopia’s general election on monday...</td>\n",
       "    </tr>\n",
       "    <tr>\n",
       "      <th>2</th>\n",
       "      <td>hey everyone happy friday and happy almostsumm...</td>\n",
       "    </tr>\n",
       "    <tr>\n",
       "      <th>3</th>\n",
       "      <td>meet rahel  a human face of a brutal ethnic cl...</td>\n",
       "    </tr>\n",
       "    <tr>\n",
       "      <th>4</th>\n",
       "      <td>this episode contains descriptions of sexual v...</td>\n",
       "    </tr>\n",
       "  </tbody>\n",
       "</table>\n",
       "</div>"
      ],
      "text/plain": [
       "                                                 NYT\n",
       "0  addis ababa ethiopia — as war raged in norther...\n",
       "1  ahead of ethiopia’s general election on monday...\n",
       "2  hey everyone happy friday and happy almostsumm...\n",
       "3  meet rahel  a human face of a brutal ethnic cl...\n",
       "4  this episode contains descriptions of sexual v..."
      ]
     },
     "execution_count": 50,
     "metadata": {},
     "output_type": "execute_result"
    }
   ],
   "source": [
    "import re\n",
    "import string\n",
    "import pickle\n",
    "\n",
    "def clean_text_round1(text):\n",
    "    text = text.lower()\n",
    "    text = re.sub('\\[.*?\\]', '', text)\n",
    "    text = re.sub('[%s]' % re.escape(string.punctuation), '', text)\n",
    "    text = re.sub('\\w*\\d\\w*', '', text)\n",
    "    \n",
    "    return text\n",
    "\n",
    "round1 = lambda x: clean_text_round1(x)\n",
    "\n",
    "data_clean = pd.DataFrame(df['NYT'].apply(round1))\n",
    "data_clean.head()"
   ]
  },
  {
   "cell_type": "code",
   "execution_count": 78,
   "metadata": {},
   "outputs": [],
   "source": [
    "# df.to_pickle('df.pkl')\n",
    "# data_clean.to_pickle('dc.pkl')"
   ]
  },
  {
   "cell_type": "code",
   "execution_count": 79,
   "metadata": {},
   "outputs": [],
   "source": [
    "wp_urls = ['https://www.washingtonpost.com/world/2021/06/22/abiy-ahmed-tarnishing-worlds-most-famous-prize/',\n",
    "           'https://www.washingtonpost.com/world/2021/06/20/ethiopia-election-abiy/',\n",
    "           'https://www.washingtonpost.com/opinions/global-opinions/ethiopia-tigray-famine-eritrea-us-action-urgent/2021/06/15/a20629be-cd2d-11eb-8014-2f3926ca24d9_story.html',\n",
    "           'https://www.washingtonpost.com/world/ethiopia-urges-tigray-rights-inquiry-to-immediately-cease/2021/06/17/d6e32d72-cf66-11eb-a224-bd59bd22197c_story.html',\n",
    "           'https://www.washingtonpost.com/world/un-famine-is-imminent-in-ethiopias-embattled-tigray-region/2021/06/05/9c23ea0c-c5c3-11eb-89a4-b7ae22aa193e_story.html',\n",
    "           'https://www.washingtonpost.com/world/ethiopia-says-22-regional-officials-killed-by-tigray-rebels/2021/05/26/d86a9ab0-be57-11eb-922a-c40c9774bc48_story.html',\n",
    "           'https://www.washingtonpost.com/world/eritrea-blames-us-support-for-tigrays-leaders-for-the-war/2021/06/08/92c432a0-c81b-11eb-8708-64991f2acf28_story.html',\n",
    "           'https://www.washingtonpost.com/world/egypt-president-in-djibouti-to-forge-ties-amid-nile-dispute/2021/05/27/43357d42-beda-11eb-922a-c40c9774bc48_story.html',\n",
    "           'https://www.washingtonpost.com/world/arab-league-backs-calls-for-un-intervention-in-dam-dispute/2021/06/15/b05922a6-cdfe-11eb-a224-bd59bd22197c_story.html'\n",
    "           'https://www.washingtonpost.com/world/2020/11/17/ethiopia-tigray-conflict-what-is-happening/',\n",
    "           'https://www.washingtonpost.com/politics/2020/11/17/ethiopias-cracking-down-tigray-activists-are-spreading-news/',\n",
    "           'https://www.washingtonpost.com/photography/2021/01/01/refugees-flee-ethiopia/',\n",
    "           'https://www.washingtonpost.com/opinions/letters-to-the-editor/mediation-would-be-better-for-ethiopia/2020/11/13/0839a0ee-2446-11eb-9c4a-0dc6242c4814_story.html',\n",
    "           'https://www.washingtonpost.com/politics/2019/07/15/whats-behind-ethiopias-recent-political-violence/',\n",
    "           'https://www.washingtonpost.com/world/africa/ethiopia-tigray-military-tplf/2020/11/04/3cd0f4a8-1e90-11eb-ad53-4c1fda49907d_story.html'\n",
    "           'https://www.washingtonpost.com/clean-out-our-insides-ethiopia-detains-tigrayans-amid-war/2021/04/29/4313dd4c-a8b2-11eb-a8a7-5f45ddcdf364_story.html'\n",
    "           \n",
    "]"
   ]
  },
  {
   "cell_type": "code",
   "execution_count": 128,
   "metadata": {
    "collapsed": true
   },
   "outputs": [
    {
     "name": "stdout",
     "output_type": "stream",
     "text": [
      "You’re reading an excerpt from the Today’s WorldView newsletter. Sign up to get the rest, including news from around the globe, interesting ideas and opinions to know, sent to your inbox every weekday.\n",
      "If good things come to those who wait, do bad things come to those who don’t? In its citation for Ethiopian Prime Minister Abiy Ahmed’s 2019 Nobel Peace Prize, the awarding committee celebrated his “efforts to achieve peace and international cooperation,” particularly in securing the landmark truce and easing of tensions with neighboring Eritrea not long after he came to power in 2018. Abiy was hailed as a transformational figure in the Horn of Africa, bent on liberalizing his nation of 117 million people and reforming a notoriously sclerotic state long dominated by a single ruling coalition.\n",
      "“The art of building peace is a synergistic process to change hearts, minds, beliefs and attitudes that never ceases,” Abiy said during his valedictory Nobel lecture in December 2019. “Before we can harvest peace dividends, we must plant seeds of love, forgiveness and reconciliation in the hearts and minds of our citizens.”\n",
      "A year later, though, Ethiopia was harvesting far more strife than peace. Abiy’s attempts at opening up the country’s political space led to deepening polarization among its ethnic factions. Violence and unrest intensified, as did political repression. Abiy said his government needed time to implement reforms and “unlearn” the “mind-set and tactics of the past.” Analysts of the Norwegian Nobel committee’s decision-making process started to fret that they had made a mistake.\n",
      "“The committee has increasingly given awards to processes like in Ethiopia, rather than past achievements. The expectation is of course that the award nudges the process along,” Henrik Urdal, director of the Peace Research Institute Oslo, told my colleague Max Bearak in the fall. “I think the Abiy award was probably the riskiest of their process awards, though it would still be too early to call it a failure.”\n",
      "It probably isn’t too early now. In the intervening period, Ethiopia endured a seven-month-long civil war in the northern region of Tigray, which has displaced more than 2 million people and left millions in need of humanitarian assistance and more than 350,000 people experiencing famine conditions, according to estimates by U.N. agencies and aid groups.\n",
      "Far from glimmers of a new prosperity, Abiy has presided over a deterioration that recalls Ethiopia’s hideous famine of the mid-1980s, which caused as estimated 1 million deaths. Numerous security and political crises have flared elsewhere in the country, from the borderlands with Sudan to the ethnic Oromo heartlands around the capital, Addis Ababa.\n",
      "On Monday, as Ethiopia staged long-deferred parliamentary elections, Abiy denied to the BBC at a polling station that Tigray faced a hunger crisis. Still, the vote, which Abiy had intended as a major step for his program of liberalization, took place under a metaphorical cloud. Some political factions called for boycotts. No ballots were cast in a fifth of the country’s polling stations, including all those in Tigray, where no elections will be held.\n",
      "Abiy’s entente with Eritrea led to Ethiopia’s neighbor sending in its own troops into Tigray, which abuts Eritrea’s southern border. Abiy spent months denying their presence before admitting to it in a parliamentary speech in March. Rights groups and international observers allege that warring parties on all sides have committed what may amount to war crimes. Pekka Haavisto, Finland’s foreign minister and the European Union’s special envoy to Ethiopia, said in a briefing last week to the European Parliament that he came away from meetings with the country’s leadership in February shocked by their rhetoric, including claims that “they are going to destroy the Tigrayans, they are going to wipe out the Tigrayans for 100 years and so forth.” (Ethiopia’s Foreign Ministry accused Haavisto of “hallucination” or “a lapse in memory.”)\n",
      "Officials in the Biden administration have been vocal in their concerns over Ethiopia since taking office. “While Abiy is widely expected to be reelected, his standing both within and outside Ethiopia has been greatly diminished since the war in Tigray began,” Bearak explained. “The United States, once a close ally, has sanctioned top government officials for their alleged roles in serious human rights violations in Tigray, suspended all security assistance, and said it was ‘gravely concerned’ about the election environment given multiple crises that ‘threaten the country’s unity and territorial integrity.’ ”\n",
      "Whatever happens next, Abiy’s Nobel luster is lost. He’s not the first to attract such ire — critics of American hegemony have lambasted the Nobel committee for awarding the Peace Prize to Henry Kissinger in 1973 and, more recently, President Barack Obama. Now, Abiy’s lieutenants defend him with the same sort of nationalist language once invoked by the supporters of the now-detained Myanmar leader Aung San Suu Kyi, who was awarded the Peace Prize in 1991 as an icon of democracy, but decades later would defend Myanmar’s military against allegations of ethnic cleansing and war crimes against the ethnic Rohingya minority.\n",
      "“The prime minister need not be a darling of the west, east, south or north,” Abiy’s spokeswoman Billene Seyoum told reporters last week. “It is sufficient that he stands for the people of Ethiopia and the development of the nation.”\n",
      "Now, some analysts wonder whether the premature delivery of the award — which led to Abiy’s lionization in the West — had a role to play in the ongoing crisis. “We have to acknowledge that we helped to contribute to Abiy’s view of himself,” Judd Devermont, an Africa expert at the Center for Strategic and International Studies, told the New York Times. “We papered over these challenges very early. We gave him a blank check. When it went wrong, we initially turned a blind eye. And now it may be too late.”\n",
      "Others argue that the Norwegian body that feted Abiy should face consequences of its own. “The committee has stayed silent, carrying on a century’s tradition of refusing to discuss the judging process,” Kjetil Tronvoll, professor of peace and conflict studies at Norway’s Bjørknes University College, wrote in the Guardian. “All members have an individual responsibility — it is not officially known whether any voted against. They should therefore acknowledge this, collectively resign, and let the Norwegian parliament appoint a new committee.”\n",
      "Read more:\n",
      "In nationalizing Juneteenth, the U.S. is still late to the hemisphere’s party\n",
      "The delta variant adds a speed bump to the pandemic escape route\n",
      "An emboldened Biden meets an unbothered Putin\n"
     ]
    }
   ],
   "source": [
    "# src = requests.get('https://www.washingtonpost.com/world/2021/06/22/abiy-ahmed-tarnishing-worlds-most-famous-prize/').text\n",
    "# sp = bs(src, 'lxml')\n",
    "# print(sp.prettify())\n",
    "for i in sp.find_all(class_=\"font--body font-copy gray-darkest ma-0 pb-md\"):\n",
    "    print(i.text)\n",
    "# text = ' '.join(text)"
   ]
  },
  {
   "cell_type": "code",
   "execution_count": 130,
   "metadata": {},
   "outputs": [],
   "source": [
    "def wp_url_to_transcript(url):\n",
    "    src = requests.get(url).text\n",
    "    sp = bs(src, 'lxml')\n",
    "    text = [i.text for i in sp.find_all(class_=\"font--body font-copy gray-darkest ma-0 pb-md\")]\n",
    "    text = ' '.join(text)\n",
    "    \n",
    "    return text\n",
    "\n",
    "wp_transcripts = [wp_url_to_transcript(url) for url in wp_urls]"
   ]
  },
  {
   "cell_type": "code",
   "execution_count": 134,
   "metadata": {},
   "outputs": [
    {
     "data": {
      "text/plain": [
       "['You’re reading an excerpt from the Today’s WorldView newsletter. Sign up to get the rest, including news from around the globe, interesting ideas and opinions to know, sent to your inbox every weekday. If good things come to those who wait, do bad things come to those who don’t? In its citation for Ethiopian Prime Minister Abiy Ahmed’s 2019 Nobel Peace Prize, the awarding committee celebrated his “efforts to achieve peace and international cooperation,” particularly in securing the landmark truce and easing of tensions with neighboring Eritrea not long after he came to power in 2018. Abiy was hailed as a transformational figure in the Horn of Africa, bent on liberalizing his nation of 117 million people and reforming a notoriously sclerotic state long dominated by a single ruling coalition. “The art of building peace is a synergistic process to change hearts, minds, beliefs and attitudes that never ceases,” Abiy said during his valedictory Nobel lecture in December 2019. “Before we can harvest peace dividends, we must plant seeds of love, forgiveness and reconciliation in the hearts and minds of our citizens.” A year later, though, Ethiopia was harvesting far more strife than peace. Abiy’s attempts at opening up the country’s political space led to deepening polarization among its ethnic factions. Violence and unrest intensified, as did political repression. Abiy said his government needed time to implement reforms and “unlearn” the “mind-set and tactics of the past.” Analysts of the Norwegian Nobel committee’s decision-making process started to fret that they had made a mistake. “The committee has increasingly given awards to processes like in Ethiopia, rather than past achievements. The expectation is of course that the award nudges the process along,” Henrik Urdal, director of the Peace Research Institute Oslo, told my colleague Max Bearak in the fall. “I think the Abiy award was probably the riskiest of their process awards, though it would still be too early to call it a failure.” It probably isn’t too early now. In the intervening period, Ethiopia endured a seven-month-long civil war in the northern region of Tigray, which has displaced more than 2 million people and left millions in need of humanitarian assistance and more than 350,000 people experiencing famine conditions, according to estimates by U.N. agencies and aid groups. Far from glimmers of a new prosperity, Abiy has presided over a deterioration that recalls Ethiopia’s hideous famine of the mid-1980s, which caused as estimated 1 million deaths. Numerous security and political crises have flared elsewhere in the country, from the borderlands with Sudan to the ethnic Oromo heartlands around the capital, Addis Ababa. On Monday, as Ethiopia staged long-deferred parliamentary elections, Abiy denied to the BBC at a polling station that Tigray faced a hunger crisis. Still, the vote, which Abiy had intended as a major step for his program of liberalization, took place under a metaphorical cloud. Some political factions called for boycotts. No ballots were cast in a fifth of the country’s polling stations, including all those in Tigray, where no elections will be held. Abiy’s entente with Eritrea led to Ethiopia’s neighbor sending in its own troops into Tigray, which abuts Eritrea’s southern border. Abiy spent months denying their presence before admitting to it in a parliamentary speech in March. Rights groups and international observers allege that warring parties on all sides have committed what may amount to war crimes. Pekka Haavisto, Finland’s foreign minister and the European Union’s special envoy to Ethiopia, said in a briefing last week to the European Parliament that he came away from meetings with the country’s leadership in February shocked by their rhetoric, including claims that “they are going to destroy the Tigrayans, they are going to wipe out the Tigrayans for 100 years and so forth.” (Ethiopia’s Foreign Ministry accused Haavisto of “hallucination” or “a lapse in memory.”) Officials in the Biden administration have been vocal in their concerns over Ethiopia since taking office. “While Abiy is widely expected to be reelected, his standing both within and outside Ethiopia has been greatly diminished since the war in Tigray began,” Bearak explained. “The United States, once a close ally, has sanctioned top government officials for their alleged roles in serious human rights violations in Tigray, suspended all security assistance, and said it was ‘gravely concerned’ about the election environment given multiple crises that ‘threaten the country’s unity and territorial integrity.’ ” Whatever happens next, Abiy’s Nobel luster is lost. He’s not the first to attract such ire — critics of American hegemony have lambasted the Nobel committee for awarding the Peace Prize to Henry Kissinger in 1973 and, more recently, President Barack Obama. Now, Abiy’s lieutenants defend him with the same sort of nationalist language once invoked by the supporters of the now-detained Myanmar leader Aung San Suu Kyi, who was awarded the Peace Prize in 1991 as an icon of democracy, but decades later would defend Myanmar’s military against allegations of ethnic cleansing and war crimes against the ethnic Rohingya minority. “The prime minister need not be a darling of the west, east, south or north,” Abiy’s spokeswoman Billene Seyoum told reporters last week. “It is sufficient that he stands for the people of Ethiopia and the development of the nation.” Now, some analysts wonder whether the premature delivery of the award — which led to Abiy’s lionization in the West — had a role to play in the ongoing crisis. “We have to acknowledge that we helped to contribute to Abiy’s view of himself,” Judd Devermont, an Africa expert at the Center for Strategic and International Studies, told the New York Times. “We papered over these challenges very early. We gave him a blank check. When it went wrong, we initially turned a blind eye. And now it may be too late.” Others argue that the Norwegian body that feted Abiy should face consequences of its own. “The committee has stayed silent, carrying on a century’s tradition of refusing to discuss the judging process,” Kjetil Tronvoll, professor of peace and conflict studies at Norway’s Bjørknes University College, wrote in the Guardian. “All members have an individual responsibility — it is not officially known whether any voted against. They should therefore acknowledge this, collectively resign, and let the Norwegian parliament appoint a new committee.” Read more: In nationalizing Juneteenth, the U.S. is still late to the hemisphere’s party The delta variant adds a speed bump to the pandemic escape route An emboldened Biden meets an unbothered Putin',\n",
       " 'Ethiopian voters went to the polls Monday in a national election that the government has heralded as a long-awaited emergence into multiparty democracy. But a cascade of major crises in Africa’s second-most populous country has thrown the vote into disarray, leaving millions unable to vote. Foremost among them is a disastrous seven-month-old civil war in the northern region of Tigray, where a powerful regional political party is waging a guerilla-style conflict against Ethiopia’s military, which in turn has aligned with forces from neighboring Eritrea and Ethiopia’s Amhara region. All sides have been accused of war crimes, and humanitarian groups say hundreds of thousands in Tigray are experiencing famine conditions. The election itself has been weakened by widespread insecurity, logistical issues and political disputes. Tigray will not take part in the vote at all, and about a fifth of polling stations in the rest of the country will not open on Monday because of security concerns or improperly printed ballots, according to the country’s election commission. The closed polling stations tend to be in areas where opposition parties claim support. Those closures as well as the jailing of numerous prominent government critics have led some of the country’s biggest opposition parties to boycott the election. Here’s what you need to know. Ethiopian Prime Minister Abiy Ahmed came to power in 2018 on a wave of discontent against what many Ethiopians perceived as a system of ethnic favoritism entrenched by the authoritarian, Tigrayan-led regime that had ruled the country for decades. Abiy’s initial moves toward opening up political and media freedoms were widely lauded, and his peace overtures to Eritrea, which formally ended a long and brutal war, earned him a Nobel Peace Prize. While Abiy is widely expected to be reelected, his standing both within and outside Ethiopia has been greatly diminished since the war in Tigray began. The United States, once a close ally, has sanctioned top government officials for their alleged roles in serious human rights violations in Tigray, suspended all security assistance, and said it was “gravely concerned” about the election environment given multiple crises that “threaten the country’s unity and territorial integrity.” The European Union withdrew its election observers after failing to agree with the government on the mission’s ability to move and communicate independently. “The prime minister need not be a darling of the west, east, south or north,” Abiy’s spokeswoman, Billene Seyoum, told reporters this past week. “It is sufficient that he stands for the people of Ethiopia and the development of the nation. And on June 21, the people of Ethiopia will decide.” The continued detention of some of Ethiopia’s most popular opposition leaders, particularly in Oromia, the country’s biggest and most populous region, has eliminated Abiy’s main challengers from the vote. The government claims jailed opposition leaders are accused of terrorism aimed at destabilizing the country. The disjointedness of the polls also raises questions of disenfranchisement. Two entire regions, Harari and Somali, will vote in September instead of Monday because of logistical issues. Abiy’s party may win a majority in parliament before those regions get a chance to vote. “The fact that this election is being held during the rainy season only makes it more problematic,” said Abel Abate Demissie, an Ethiopia analyst at Chatham House. Much of the country lacks adequate transportation infrastructure, which makes getting to polling stations and transporting ballots tricky on muddy roads. He also questioned the government’s ability to secure polling stations as well as safely transport ballot boxes when the military, which has that task, is embroiled in a fierce war in Tigray. Fighting is ongoing, and aid agencies report having unfettered access only to a handful of cities where the government has reestablished control. Trips beyond those cities have resulted in numerous instances of aid workers being killed or assaulted, vehicles and their loads being confiscated, and an inability to reach those trapped behind rapidly shifting battle lines. As of this past week, the United Nations estimates that more than 350,000 people in hard-to-reach parts of Tigray are already in famine, and aid officials and Western government representatives say those numbers will multiply without an abatement of fighting. In the early stages of the conflict, government-aligned forces took control over western Tigray — an area that neighboring Amharas claim was violently annexed by Tigrayans under the previous regime. Widespread reports of Tigrayans being forced from the region prompted U.S. Secretary of State Antony Blinken to warn that an “ethnic cleansing” was underway. More than 60,000 people fled into neighboring Sudan, mostly from western Tigray, and a further 1.7 million have been rendered homeless in the region at large. Investigations by human rights organizations, journalists and Ethiopia’s own human rights commission have described dozens of ethnically driven attacks against civilians, including door-to-door executions and the systematic rape of Tigrayans by Eritrean troops. While testimonies indicate one particularly gruesome massacre in November was carried out by Tigrayan forces, who killed more than 600 mostly Amhara people, subsequent months were marked mainly by allegations of atrocities committed against Tigrayans. Ethiopia’s government has steadfastly asserted that all blame for the fighting and ensuing suffering of people in Tigray lays at the feet of the Tigray People’s Liberation Front, which the government accuses of attacking a military command post last November and sparking the war. For months, the government maintained that Eritrean troops were not present in Tigray, fighting alongside Ethiopian forces, despite mounting witness and satellite evidence of their movements. Only in April did the government acknowledge the presence of Eritreans and that they may be responsible for the killing of civilians. If verified, many of the atrocities allegedly committed by both Ethiopian and Eritrean forces would be considered war crimes under international law, including the use of rape and starvation as weapons of war. The Ethiopian government, however, has heavily restricted access for media and rights groups, making verification difficult. The Ethiopian and Eritrean governments have rejected the findings of groups such as Human Rights Watch and Amnesty International as fabricated, and this past week called on the African Union to “immediately cease” its own independent investigation. “It is extremely regrettable to see that some within the international community have embarked on a mission to undermine the unity, territorial integrity and the cohesion of the Ethiopian state, under the guise of humanitarian concern,” Ethiopian Foreign Minister Demeke Mekonnen said in a statement. Nevertheless, three Ethiopian soldiers were convicted in May of rape and one of killing a civilian. Twenty-eight more soldiers are on trial for allegedly killing civilians and 25 for acts of sexual violence and rape, according to a statement from the attorney general’s office. While Abiy hopes this election will cement his mandate, analysts said there is reason to worry that the election will further destabilize Ethiopia. The war in Tigray shows no signs of ending and is likely to result in Ethiopia’s tenuous occupation of a region whose population feels besieged, and whose ground is strewn with rubble and unexploded ordnance. Despite government pledges that Eritrean troops would withdraw from Tigray, they have not done so. Increasing levels of conflict around the country have already triggered a rollback of Abiy’s initial reforms — a trend that will likely be exacerbated by Ethiopia’s increasing alienation from the international community. And the election itself may be the cause of further violence. Because of opposition boycotts, many newly elected legislators may be seen as illegitimate by their constituents, deepening existing tensions. “There is a real risk of election-related violence, especially in Addis and Amhara regions, which would push the country further into uncharted waters,” said Abel. “It is very difficult to see the government restoring its legitimacy through these elections alone, both in the eyes of many of its citizens and its international partners.” Read more: In Sudan’s sweltering camps, refugees from Tigray dream of independence from Ethiopia Ethiopia’s war in Tigray shows no signs of abating, despite government’s victory claims A border war looms between Sudan and Ethiopia as Tigray conflict sends ripples through region']"
      ]
     },
     "execution_count": 134,
     "metadata": {},
     "output_type": "execute_result"
    }
   ],
   "source": [
    "wp_transcripts"
   ]
  },
  {
   "cell_type": "code",
   "execution_count": 132,
   "metadata": {},
   "outputs": [
    {
     "data": {
      "text/plain": [
       "2"
      ]
     },
     "execution_count": 132,
     "metadata": {},
     "output_type": "execute_result"
    }
   ],
   "source": [
    "len(wp_transcripts)"
   ]
  },
  {
   "cell_type": "code",
   "execution_count": 114,
   "metadata": {
    "collapsed": true
   },
   "outputs": [
    {
     "data": {
      "text/plain": [
       "['https://bbc.com/news/world-africa-57560543',\n",
       " 'https://bbc.com/news/world-africa-57556740',\n",
       " 'https://bbc.com/news/world-africa-57513115',\n",
       " 'https://bbc.com/news/world-africa-57551057',\n",
       " 'https://bbc.com/news/world-africa-57467645',\n",
       " 'https://bbc.com/news/world-africa-57505436',\n",
       " 'https://bbc.com/news/world-africa-57486954',\n",
       " 'https://bbc.com/news/world-africa-57503243',\n",
       " 'https://bbc.com/news/world-africa-57503242',\n",
       " 'https://bbc.com/news/world-africa-57428039',\n",
       " 'https://bbc.com/news/world-africa-43567007',\n",
       " 'https://bbc.com/news/world-africa-57460462',\n",
       " 'https://bbc.com/news/world-africa-57446154',\n",
       " 'https://bbc.com/news/world-africa-57422168']"
      ]
     },
     "execution_count": 114,
     "metadata": {},
     "output_type": "execute_result"
    }
   ],
   "source": [
    "u = 'https://www.bbc.com/news/topics/cr2pnx1173dt/tigray-crisis'\n",
    "sr = requests.get(u).text\n",
    "sp1 = bs(sr, 'lxml')\n",
    "\n",
    "bbc_urls = [f\"https://bbc.com{i.a['href']}\" for i in sp1.find_all(class_='gs-o-media__body') if i.a is not None]\n",
    "bbc_urls"
   ]
  },
  {
   "cell_type": "code",
   "execution_count": 118,
   "metadata": {},
   "outputs": [],
   "source": [
    "def bbc_url_to_transcript(url):\n",
    "    src = requests.get(url).text\n",
    "    sp = bs(src, 'lxml')\n",
    "    text = [i.text for i in sp.find_all('p', class_='ssrcss-1q0x1qg-Paragraph eq5iqo00')]\n",
    "    text = ' '.join(text)\n",
    "    \n",
    "    return text\n",
    "\n",
    "bbc_transcripts = [bbc_url_to_transcript(url) for url in bbc_urls]"
   ]
  },
  {
   "cell_type": "code",
   "execution_count": 119,
   "metadata": {},
   "outputs": [],
   "source": [
    "# src = requests.get('https://www.bbc.com/news/world-africa-57556740').text\n",
    "# sp = bs(src, 'lxml')\n",
    "# text = [i.text for i in sp.find_all('p', class_='ssrcss-1q0x1qg-Paragraph eq5iqo00')]\n",
    "# # text = [i.p.text for i in sp.find('article', class_='ssrcss-1072xwf-ArticleWrapper e1nh2i2l6').find_all('div', class_='ssrcss-uf6wea-RichTextComponentWrapper e1xue1i84') if i.p is not None]\n",
    "# text = ' '.join(text)\n",
    "# text"
   ]
  },
  {
   "cell_type": "code",
   "execution_count": 120,
   "metadata": {},
   "outputs": [
    {
     "data": {
      "text/html": [
       "<div>\n",
       "<style scoped>\n",
       "    .dataframe tbody tr th:only-of-type {\n",
       "        vertical-align: middle;\n",
       "    }\n",
       "\n",
       "    .dataframe tbody tr th {\n",
       "        vertical-align: top;\n",
       "    }\n",
       "\n",
       "    .dataframe thead th {\n",
       "        text-align: right;\n",
       "    }\n",
       "</style>\n",
       "<table border=\"1\" class=\"dataframe\">\n",
       "  <thead>\n",
       "    <tr style=\"text-align: right;\">\n",
       "      <th></th>\n",
       "      <th>BBC</th>\n",
       "    </tr>\n",
       "  </thead>\n",
       "  <tbody>\n",
       "    <tr>\n",
       "      <th>0</th>\n",
       "      <td>Heavy fighting has broken out in several areas...</td>\n",
       "    </tr>\n",
       "    <tr>\n",
       "      <th>1</th>\n",
       "      <td>Ethiopia's Prime Minister Abiy Ahmed has denie...</td>\n",
       "    </tr>\n",
       "    <tr>\n",
       "      <th>2</th>\n",
       "      <td>Ethiopians have been voting in key elections a...</td>\n",
       "    </tr>\n",
       "    <tr>\n",
       "      <th>3</th>\n",
       "      <td>In an exclusive interview with the BBC, Ethiop...</td>\n",
       "    </tr>\n",
       "    <tr>\n",
       "      <th>4</th>\n",
       "      <td>Ethiopia is poised to hold what its prime mini...</td>\n",
       "    </tr>\n",
       "  </tbody>\n",
       "</table>\n",
       "</div>"
      ],
      "text/plain": [
       "                                                 BBC\n",
       "0  Heavy fighting has broken out in several areas...\n",
       "1  Ethiopia's Prime Minister Abiy Ahmed has denie...\n",
       "2  Ethiopians have been voting in key elections a...\n",
       "3  In an exclusive interview with the BBC, Ethiop...\n",
       "4  Ethiopia is poised to hold what its prime mini..."
      ]
     },
     "execution_count": 120,
     "metadata": {},
     "output_type": "execute_result"
    }
   ],
   "source": [
    "data1 = {'BBC': bbc_transcripts}\n",
    "df1 = pd.DataFrame(data1)\n",
    "df1.head()"
   ]
  },
  {
   "cell_type": "code",
   "execution_count": 122,
   "metadata": {},
   "outputs": [
    {
     "data": {
      "text/html": [
       "<div>\n",
       "<style scoped>\n",
       "    .dataframe tbody tr th:only-of-type {\n",
       "        vertical-align: middle;\n",
       "    }\n",
       "\n",
       "    .dataframe tbody tr th {\n",
       "        vertical-align: top;\n",
       "    }\n",
       "\n",
       "    .dataframe thead th {\n",
       "        text-align: right;\n",
       "    }\n",
       "</style>\n",
       "<table border=\"1\" class=\"dataframe\">\n",
       "  <thead>\n",
       "    <tr style=\"text-align: right;\">\n",
       "      <th></th>\n",
       "      <th>BBC</th>\n",
       "    </tr>\n",
       "  </thead>\n",
       "  <tbody>\n",
       "    <tr>\n",
       "      <th>0</th>\n",
       "      <td>heavy fighting has broken out in several areas...</td>\n",
       "    </tr>\n",
       "    <tr>\n",
       "      <th>1</th>\n",
       "      <td>ethiopias prime minister abiy ahmed has denied...</td>\n",
       "    </tr>\n",
       "    <tr>\n",
       "      <th>2</th>\n",
       "      <td>ethiopians have been voting in key elections a...</td>\n",
       "    </tr>\n",
       "    <tr>\n",
       "      <th>3</th>\n",
       "      <td>in an exclusive interview with the bbc ethiopi...</td>\n",
       "    </tr>\n",
       "    <tr>\n",
       "      <th>4</th>\n",
       "      <td>ethiopia is poised to hold what its prime mini...</td>\n",
       "    </tr>\n",
       "  </tbody>\n",
       "</table>\n",
       "</div>"
      ],
      "text/plain": [
       "                                                 BBC\n",
       "0  heavy fighting has broken out in several areas...\n",
       "1  ethiopias prime minister abiy ahmed has denied...\n",
       "2  ethiopians have been voting in key elections a...\n",
       "3  in an exclusive interview with the bbc ethiopi...\n",
       "4  ethiopia is poised to hold what its prime mini..."
      ]
     },
     "execution_count": 122,
     "metadata": {},
     "output_type": "execute_result"
    }
   ],
   "source": [
    "data_clean2 = pd.DataFrame(df1['BBC'].apply(round1))\n",
    "data_clean2.head()"
   ]
  },
  {
   "cell_type": "code",
   "execution_count": 123,
   "metadata": {},
   "outputs": [
    {
     "ename": "ValueError",
     "evalue": "arrays must all be same length",
     "output_type": "error",
     "traceback": [
      "\u001b[1;31m---------------------------------------------------------------------------\u001b[0m",
      "\u001b[1;31mValueError\u001b[0m                                Traceback (most recent call last)",
      "\u001b[1;32m<ipython-input-123-cbbc6a260e73>\u001b[0m in \u001b[0;36m<module>\u001b[1;34m\u001b[0m\n\u001b[0;32m      1\u001b[0m \u001b[0mdata2\u001b[0m \u001b[1;33m=\u001b[0m \u001b[1;33m{\u001b[0m\u001b[1;34m'NYT'\u001b[0m\u001b[1;33m:\u001b[0m \u001b[0mnyt_transcripts\u001b[0m\u001b[1;33m,\u001b[0m \u001b[1;34m'BBC'\u001b[0m\u001b[1;33m:\u001b[0m \u001b[0mbbc_transcripts\u001b[0m\u001b[1;33m}\u001b[0m\u001b[1;33m\u001b[0m\u001b[1;33m\u001b[0m\u001b[0m\n\u001b[1;32m----> 2\u001b[1;33m \u001b[0mdf2\u001b[0m \u001b[1;33m=\u001b[0m \u001b[0mpd\u001b[0m\u001b[1;33m.\u001b[0m\u001b[0mDataFrame\u001b[0m\u001b[1;33m(\u001b[0m\u001b[0mdata2\u001b[0m\u001b[1;33m)\u001b[0m\u001b[1;33m\u001b[0m\u001b[1;33m\u001b[0m\u001b[0m\n\u001b[0m\u001b[0;32m      3\u001b[0m \u001b[0mdf2\u001b[0m\u001b[1;33m.\u001b[0m\u001b[0mhead\u001b[0m\u001b[1;33m(\u001b[0m\u001b[1;33m)\u001b[0m\u001b[1;33m\u001b[0m\u001b[1;33m\u001b[0m\u001b[0m\n",
      "\u001b[1;32m~\\anaconda3\\lib\\site-packages\\pandas\\core\\frame.py\u001b[0m in \u001b[0;36m__init__\u001b[1;34m(self, data, index, columns, dtype, copy)\u001b[0m\n\u001b[0;32m    466\u001b[0m \u001b[1;33m\u001b[0m\u001b[0m\n\u001b[0;32m    467\u001b[0m         \u001b[1;32melif\u001b[0m \u001b[0misinstance\u001b[0m\u001b[1;33m(\u001b[0m\u001b[0mdata\u001b[0m\u001b[1;33m,\u001b[0m \u001b[0mdict\u001b[0m\u001b[1;33m)\u001b[0m\u001b[1;33m:\u001b[0m\u001b[1;33m\u001b[0m\u001b[1;33m\u001b[0m\u001b[0m\n\u001b[1;32m--> 468\u001b[1;33m             \u001b[0mmgr\u001b[0m \u001b[1;33m=\u001b[0m \u001b[0minit_dict\u001b[0m\u001b[1;33m(\u001b[0m\u001b[0mdata\u001b[0m\u001b[1;33m,\u001b[0m \u001b[0mindex\u001b[0m\u001b[1;33m,\u001b[0m \u001b[0mcolumns\u001b[0m\u001b[1;33m,\u001b[0m \u001b[0mdtype\u001b[0m\u001b[1;33m=\u001b[0m\u001b[0mdtype\u001b[0m\u001b[1;33m)\u001b[0m\u001b[1;33m\u001b[0m\u001b[1;33m\u001b[0m\u001b[0m\n\u001b[0m\u001b[0;32m    469\u001b[0m         \u001b[1;32melif\u001b[0m \u001b[0misinstance\u001b[0m\u001b[1;33m(\u001b[0m\u001b[0mdata\u001b[0m\u001b[1;33m,\u001b[0m \u001b[0mma\u001b[0m\u001b[1;33m.\u001b[0m\u001b[0mMaskedArray\u001b[0m\u001b[1;33m)\u001b[0m\u001b[1;33m:\u001b[0m\u001b[1;33m\u001b[0m\u001b[1;33m\u001b[0m\u001b[0m\n\u001b[0;32m    470\u001b[0m             \u001b[1;32mimport\u001b[0m \u001b[0mnumpy\u001b[0m\u001b[1;33m.\u001b[0m\u001b[0mma\u001b[0m\u001b[1;33m.\u001b[0m\u001b[0mmrecords\u001b[0m \u001b[1;32mas\u001b[0m \u001b[0mmrecords\u001b[0m\u001b[1;33m\u001b[0m\u001b[1;33m\u001b[0m\u001b[0m\n",
      "\u001b[1;32m~\\anaconda3\\lib\\site-packages\\pandas\\core\\internals\\construction.py\u001b[0m in \u001b[0;36minit_dict\u001b[1;34m(data, index, columns, dtype)\u001b[0m\n\u001b[0;32m    281\u001b[0m             \u001b[0marr\u001b[0m \u001b[1;32mif\u001b[0m \u001b[1;32mnot\u001b[0m \u001b[0mis_datetime64tz_dtype\u001b[0m\u001b[1;33m(\u001b[0m\u001b[0marr\u001b[0m\u001b[1;33m)\u001b[0m \u001b[1;32melse\u001b[0m \u001b[0marr\u001b[0m\u001b[1;33m.\u001b[0m\u001b[0mcopy\u001b[0m\u001b[1;33m(\u001b[0m\u001b[1;33m)\u001b[0m \u001b[1;32mfor\u001b[0m \u001b[0marr\u001b[0m \u001b[1;32min\u001b[0m \u001b[0marrays\u001b[0m\u001b[1;33m\u001b[0m\u001b[1;33m\u001b[0m\u001b[0m\n\u001b[0;32m    282\u001b[0m         ]\n\u001b[1;32m--> 283\u001b[1;33m     \u001b[1;32mreturn\u001b[0m \u001b[0marrays_to_mgr\u001b[0m\u001b[1;33m(\u001b[0m\u001b[0marrays\u001b[0m\u001b[1;33m,\u001b[0m \u001b[0mdata_names\u001b[0m\u001b[1;33m,\u001b[0m \u001b[0mindex\u001b[0m\u001b[1;33m,\u001b[0m \u001b[0mcolumns\u001b[0m\u001b[1;33m,\u001b[0m \u001b[0mdtype\u001b[0m\u001b[1;33m=\u001b[0m\u001b[0mdtype\u001b[0m\u001b[1;33m)\u001b[0m\u001b[1;33m\u001b[0m\u001b[1;33m\u001b[0m\u001b[0m\n\u001b[0m\u001b[0;32m    284\u001b[0m \u001b[1;33m\u001b[0m\u001b[0m\n\u001b[0;32m    285\u001b[0m \u001b[1;33m\u001b[0m\u001b[0m\n",
      "\u001b[1;32m~\\anaconda3\\lib\\site-packages\\pandas\\core\\internals\\construction.py\u001b[0m in \u001b[0;36marrays_to_mgr\u001b[1;34m(arrays, arr_names, index, columns, dtype, verify_integrity)\u001b[0m\n\u001b[0;32m     76\u001b[0m         \u001b[1;31m# figure out the index, if necessary\u001b[0m\u001b[1;33m\u001b[0m\u001b[1;33m\u001b[0m\u001b[1;33m\u001b[0m\u001b[0m\n\u001b[0;32m     77\u001b[0m         \u001b[1;32mif\u001b[0m \u001b[0mindex\u001b[0m \u001b[1;32mis\u001b[0m \u001b[1;32mNone\u001b[0m\u001b[1;33m:\u001b[0m\u001b[1;33m\u001b[0m\u001b[1;33m\u001b[0m\u001b[0m\n\u001b[1;32m---> 78\u001b[1;33m             \u001b[0mindex\u001b[0m \u001b[1;33m=\u001b[0m \u001b[0mextract_index\u001b[0m\u001b[1;33m(\u001b[0m\u001b[0marrays\u001b[0m\u001b[1;33m)\u001b[0m\u001b[1;33m\u001b[0m\u001b[1;33m\u001b[0m\u001b[0m\n\u001b[0m\u001b[0;32m     79\u001b[0m         \u001b[1;32melse\u001b[0m\u001b[1;33m:\u001b[0m\u001b[1;33m\u001b[0m\u001b[1;33m\u001b[0m\u001b[0m\n\u001b[0;32m     80\u001b[0m             \u001b[0mindex\u001b[0m \u001b[1;33m=\u001b[0m \u001b[0mensure_index\u001b[0m\u001b[1;33m(\u001b[0m\u001b[0mindex\u001b[0m\u001b[1;33m)\u001b[0m\u001b[1;33m\u001b[0m\u001b[1;33m\u001b[0m\u001b[0m\n",
      "\u001b[1;32m~\\anaconda3\\lib\\site-packages\\pandas\\core\\internals\\construction.py\u001b[0m in \u001b[0;36mextract_index\u001b[1;34m(data)\u001b[0m\n\u001b[0;32m    395\u001b[0m             \u001b[0mlengths\u001b[0m \u001b[1;33m=\u001b[0m \u001b[0mlist\u001b[0m\u001b[1;33m(\u001b[0m\u001b[0mset\u001b[0m\u001b[1;33m(\u001b[0m\u001b[0mraw_lengths\u001b[0m\u001b[1;33m)\u001b[0m\u001b[1;33m)\u001b[0m\u001b[1;33m\u001b[0m\u001b[1;33m\u001b[0m\u001b[0m\n\u001b[0;32m    396\u001b[0m             \u001b[1;32mif\u001b[0m \u001b[0mlen\u001b[0m\u001b[1;33m(\u001b[0m\u001b[0mlengths\u001b[0m\u001b[1;33m)\u001b[0m \u001b[1;33m>\u001b[0m \u001b[1;36m1\u001b[0m\u001b[1;33m:\u001b[0m\u001b[1;33m\u001b[0m\u001b[1;33m\u001b[0m\u001b[0m\n\u001b[1;32m--> 397\u001b[1;33m                 \u001b[1;32mraise\u001b[0m \u001b[0mValueError\u001b[0m\u001b[1;33m(\u001b[0m\u001b[1;34m\"arrays must all be same length\"\u001b[0m\u001b[1;33m)\u001b[0m\u001b[1;33m\u001b[0m\u001b[1;33m\u001b[0m\u001b[0m\n\u001b[0m\u001b[0;32m    398\u001b[0m \u001b[1;33m\u001b[0m\u001b[0m\n\u001b[0;32m    399\u001b[0m             \u001b[1;32mif\u001b[0m \u001b[0mhave_dicts\u001b[0m\u001b[1;33m:\u001b[0m\u001b[1;33m\u001b[0m\u001b[1;33m\u001b[0m\u001b[0m\n",
      "\u001b[1;31mValueError\u001b[0m: arrays must all be same length"
     ]
    }
   ],
   "source": [
    "data2 = {'NYT': nyt_transcripts, 'BBC': bbc_transcripts}\n",
    "df2 = pd.DataFrame(data2)\n",
    "df2.head()"
   ]
  }
 ],
 "metadata": {
  "kernelspec": {
   "display_name": "Python 3",
   "language": "python",
   "name": "python3"
  },
  "language_info": {
   "codemirror_mode": {
    "name": "ipython",
    "version": 3
   },
   "file_extension": ".py",
   "mimetype": "text/x-python",
   "name": "python",
   "nbconvert_exporter": "python",
   "pygments_lexer": "ipython3",
   "version": "3.8.5"
  }
 },
 "nbformat": 4,
 "nbformat_minor": 4
}
